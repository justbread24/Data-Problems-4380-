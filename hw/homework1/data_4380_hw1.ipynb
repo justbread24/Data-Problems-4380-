{
 "cells": [
  {
   "cell_type": "markdown",
   "id": "86b5ea4a-d559-4470-883d-91e62438254d",
   "metadata": {},
   "source": [
    "Question 1\n"
   ]
  },
  {
   "cell_type": "code",
   "execution_count": null,
   "id": "3fb0d9e9-3fb4-4d1c-835a-8fed23d16af3",
   "metadata": {},
   "outputs": [],
   "source": [
    "mkdir kaggle_data"
   ]
  },
  {
   "cell_type": "code",
   "execution_count": null,
   "id": "8d7480e3-46b6-45f8-a0ec-9c7f6a6be9de",
   "metadata": {},
   "outputs": [],
   "source": [
    "mv /mnt/c/Users/conch/Downloads/diabetes_prediction_dataset.csv ~/kaggle_data"
   ]
  },
  {
   "cell_type": "code",
   "execution_count": null,
   "id": "f1385ef0-5d09-4f85-a42a-97e4237c75cc",
   "metadata": {},
   "outputs": [],
   "source": [
    "mv /mnt/c/Users/conch/Downloads/Heart_Disease_Prediction.csv ~/kaggle_data"
   ]
  },
  {
   "cell_type": "code",
   "execution_count": null,
   "id": "9b54631a-d108-48cb-99fe-11ae6ff8d7c0",
   "metadata": {},
   "outputs": [],
   "source": [
    "mv /mnt/c/Users/conch/Downloads/car_web_scraped_dataset.csv ~/kaggle_data"
   ]
  },
  {
   "cell_type": "code",
   "execution_count": null,
   "id": "7a050419-6bb1-43f3-b987-01992ef8ddaf",
   "metadata": {},
   "outputs": [],
   "source": [
    "mv /mnt/c/Users/conch/Downloads/Housing.csv ~/kaggle_data"
   ]
  },
  {
   "cell_type": "code",
   "execution_count": null,
   "id": "b4987bba-c945-46bd-956e-8f371d3c17fa",
   "metadata": {},
   "outputs": [],
   "source": [
    "mv /mnt/c/Users/conch/Downloads/Mall_customers.csv ~/kaggle_data"
   ]
  },
  {
   "cell_type": "code",
   "execution_count": null,
   "id": "4b9f273d-c325-4f86-b51f-355ec1d27a9d",
   "metadata": {},
   "outputs": [],
   "source": [
    "mv /mnt/c/Users/conch/Downloads/world_all_university_rank_and_rank_score.csv ~/kaggle_data"
   ]
  },
  {
   "cell_type": "code",
   "execution_count": null,
   "id": "1dde7648-2168-4074-b757-28bee51a7305",
   "metadata": {},
   "outputs": [],
   "source": [
    "mv /mnt/c/Users/conch/Downloads/cancer_patient_data_sets.csv ~/kaggle_data"
   ]
  },
  {
   "cell_type": "markdown",
   "id": "2fb584bd-bfb3-4981-a261-4539293bd2a9",
   "metadata": {},
   "source": [
    "Question 2\n"
   ]
  },
  {
   "cell_type": "code",
   "execution_count": 7,
   "id": "c43ed15f-ef57-4bae-a0f2-75cb42215906",
   "metadata": {},
   "outputs": [
    {
     "ename": "SyntaxError",
     "evalue": "invalid syntax (3096350988.py, line 1)",
     "output_type": "error",
     "traceback": [
      "\u001b[1;36m  Cell \u001b[1;32mIn[7], line 1\u001b[1;36m\u001b[0m\n\u001b[1;33m    wc -l databases/diabetes_prediction_dataset.csv\u001b[0m\n\u001b[1;37m          ^\u001b[0m\n\u001b[1;31mSyntaxError\u001b[0m\u001b[1;31m:\u001b[0m invalid syntax\n"
     ]
    }
   ],
   "source": [
    "wc -l databases/diabetes_prediction_dataset.csv"
   ]
  },
  {
   "cell_type": "code",
   "execution_count": null,
   "id": "887e70d3-9d16-4f00-9953-267483e18b03",
   "metadata": {},
   "outputs": [],
   "source": [
    "head -n 1 databases/diabetes_prediction_dataset.csv > diabetes_header.csv"
   ]
  },
  {
   "cell_type": "code",
   "execution_count": null,
   "id": "cc137c4d-6673-4ccf-97a2-c71cc5692100",
   "metadata": {},
   "outputs": [],
   "source": [
    "tail -n 1 databases/diabetes_prediction_dataset.csv | head -n 33334 > diabetes_part1.csv"
   ]
  },
  {
   "cell_type": "code",
   "execution_count": null,
   "id": "6eb54b7a-31d9-4b5e-a3e3-62d1947c4b67",
   "metadata": {},
   "outputs": [],
   "source": [
    "tail -n 1 databases/diabetes_prediction_dataset.csv | head -n 66667 > diabetes_part2.csv"
   ]
  },
  {
   "cell_type": "code",
   "execution_count": null,
   "id": "837d51f9-7f2d-4f2c-8d62-3fcbf33bcbc6",
   "metadata": {},
   "outputs": [],
   "source": [
    "tail -n 1 databases/diabetes_prediction_dataset.csv | head -n 33333 > diabetes_part3.csv"
   ]
  },
  {
   "cell_type": "code",
   "execution_count": null,
   "id": "a3a3c384-5691-4071-ab6c-c6eb40b83845",
   "metadata": {},
   "outputs": [],
   "source": [
    "cat diabetes_header.csv diabetes_part1.csv > split1.csv"
   ]
  },
  {
   "cell_type": "code",
   "execution_count": null,
   "id": "729c52c0-5a5e-4e3b-8f0c-3c84292209eb",
   "metadata": {},
   "outputs": [],
   "source": [
    "cat diabetes_header.csv diabetes_part2.csv > split2.csv"
   ]
  },
  {
   "cell_type": "code",
   "execution_count": null,
   "id": "94c87cd7-cc1b-4428-b7ec-7c5fcad2f62d",
   "metadata": {},
   "outputs": [],
   "source": [
    "cat diabetes_header.csv diabetes_part3.csv > split3.csv"
   ]
  },
  {
   "cell_type": "markdown",
   "id": "8c7d7cb8-829a-4615-88ae-e2b4648d35c8",
   "metadata": {},
   "source": [
    "Question 3"
   ]
  },
  {
   "cell_type": "code",
   "execution_count": null,
   "id": "b93fcd97-36db-400d-a6f1-f61f2166ef09",
   "metadata": {},
   "outputs": [],
   "source": [
    "csvgrep -c \"Heart Disease\" -m \"Precense\" datasets/Heart_Disease_Prediction.csv > Precense_heart_disease.csv"
   ]
  },
  {
   "cell_type": "code",
   "execution_count": null,
   "id": "095527c7-1991-4c9e-b255-a78ef048bf16",
   "metadata": {},
   "outputs": [],
   "source": [
    "csvgrep -c \"Heart Disease\" -m \"Absence\" datasets/Heart_Disease_Prediction.csv > Absence_heart_disease.csv"
   ]
  },
  {
   "cell_type": "markdown",
   "id": "9a1c59e3-b46b-4a7a-b5e8-1ac913fc1b3f",
   "metadata": {},
   "source": [
    "Question 4"
   ]
  },
  {
   "cell_type": "code",
   "execution_count": 10,
   "id": "39280e24-8f6a-46ab-9e4c-ea25cc8e53c1",
   "metadata": {},
   "outputs": [
    {
     "ename": "SyntaxError",
     "evalue": "invalid syntax (2514832341.py, line 1)",
     "output_type": "error",
     "traceback": [
      "\u001b[1;36m  Cell \u001b[1;32mIn[10], line 1\u001b[1;36m\u001b[0m\n\u001b[1;33m    grep \"No accidents\" datasets/car_web_scraped_dataset.csv\u001b[0m\n\u001b[1;37m         ^\u001b[0m\n\u001b[1;31mSyntaxError\u001b[0m\u001b[1;31m:\u001b[0m invalid syntax\n"
     ]
    }
   ],
   "source": [
    "grep \"No accidents\" datasets/car_web_scraped_dataset.csv"
   ]
  },
  {
   "cell_type": "code",
   "execution_count": null,
   "id": "be4d8b71-e59f-4516-9397-7e64464e4406",
   "metadata": {},
   "outputs": [],
   "source": [
    "total=$(tail -n +2 datasets/car_web_scraped_dataset.csv | wc -l)"
   ]
  },
  {
   "cell_type": "code",
   "execution_count": null,
   "id": "c7cde861-4847-49ea-a2f4-c1247cb026ae",
   "metadata": {},
   "outputs": [],
   "source": [
    "no_accidents=$(grep -i \"No accidents\" datasets/car_web_scraped_dataset.csv | wc -l)"
   ]
  },
  {
   "cell_type": "code",
   "execution_count": null,
   "id": "a7afaabd-6e02-4ab7-9edd-5f0275f52ad8",
   "metadata": {},
   "outputs": [],
   "source": [
    "percentage=$(awk \"BEGIN {printf \\\"%.2f\\\", ($no_accidents/$total)*100}\") "
   ]
  },
  {
   "cell_type": "markdown",
   "id": "fd7a1b47-f33a-495c-98f9-b8f9dcf0caba",
   "metadata": {},
   "source": [
    "Question 5"
   ]
  },
  {
   "cell_type": "code",
   "execution_count": 15,
   "id": "025009e2-0611-4200-84e4-9587b2e4568d",
   "metadata": {},
   "outputs": [
    {
     "ename": "SyntaxError",
     "evalue": "unexpected character after line continuation character (2520796163.py, line 1)",
     "output_type": "error",
     "traceback": [
      "\u001b[1;36m  Cell \u001b[1;32mIn[15], line 1\u001b[1;36m\u001b[0m\n\u001b[1;33m    cat datasets/Housing.csv \\\u001b[0m\n\u001b[1;37m                              ^\u001b[0m\n\u001b[1;31mSyntaxError\u001b[0m\u001b[1;31m:\u001b[0m unexpected character after line continuation character\n"
     ]
    }
   ],
   "source": [
    "sed 's/,unfurnished/.0/g; s/,furnished/,1/g; s/,semi-furnished/,2/g' datasets/Housing.csv > housing_label_encoded.csv"
   ]
  },
  {
   "cell_type": "markdown",
   "id": "c6a19574-8a68-40fe-9636-eaaae4b54ea0",
   "metadata": {},
   "source": [
    "Question 6"
   ]
  },
  {
   "cell_type": "code",
   "execution_count": null,
   "id": "dc59a0ed-b790-4e75-8168-1fa344ce83a2",
   "metadata": {},
   "outputs": [],
   "source": [
    "csvcut -C CustomerID datasets/Mall_customers.csv > Updated_Mall_customers.csv"
   ]
  },
  {
   "cell_type": "markdown",
   "id": "792f7aa9-14c4-4793-af22-a53fa2905fb0",
   "metadata": {},
   "source": [
    "Question 7 "
   ]
  },
  {
   "cell_type": "code",
   "execution_count": 19,
   "id": "eb5ecffd-0666-49fa-9855-98afe81eb58b",
   "metadata": {},
   "outputs": [
    {
     "ename": "SyntaxError",
     "evalue": "invalid syntax (3158888404.py, line 1)",
     "output_type": "error",
     "traceback": [
      "\u001b[1;36m  Cell \u001b[1;32mIn[19], line 1\u001b[1;36m\u001b[0m\n\u001b[1;33m    csvcut -c 5,6,7,8 datasets/world_all_university_rank_and_rank_score.csv |\\\u001b[0m\n\u001b[1;37m              ^\u001b[0m\n\u001b[1;31mSyntaxError\u001b[0m\u001b[1;31m:\u001b[0m invalid syntax\n"
     ]
    }
   ],
   "source": [
    "csvcut -c 5,6,7,8 datasets/world_all_university_rank_and_rank_score.csv |\\\n",
    "tail -n +2 |\\\n",
    "tr ',' '+' |\\\n",
    "sed 's/[^0-9.+-]//g' |\\\n",
    "bc > uni_summed_scores.txt"
   ]
  },
  {
   "cell_type": "markdown",
   "id": "99fee7f2-72a5-4ced-a31f-d28053648d0d",
   "metadata": {},
   "source": [
    "Question 8"
   ]
  },
  {
   "cell_type": "code",
   "execution_count": null,
   "id": "d97b5555-2dfc-4430-bce3-c8d061774375",
   "metadata": {},
   "outputs": [],
   "source": [
    ")head -n 1 datasets/cancer_patient_data_sets.csv && tail -n +2 datasets/cancer_patient_data_sets.csv | sort "
   ]
  }
 ],
 "metadata": {
  "kernelspec": {
   "display_name": "Python 3 (ipykernel)",
   "language": "python",
   "name": "python3"
  },
  "language_info": {
   "codemirror_mode": {
    "name": "ipython",
    "version": 3
   },
   "file_extension": ".py",
   "mimetype": "text/x-python",
   "name": "python",
   "nbconvert_exporter": "python",
   "pygments_lexer": "ipython3",
   "version": "3.12.7"
  }
 },
 "nbformat": 4,
 "nbformat_minor": 5
}
